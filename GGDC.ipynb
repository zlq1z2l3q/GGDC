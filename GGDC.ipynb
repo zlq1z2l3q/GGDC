{
 "nbformat": 4,
 "nbformat_minor": 0,
 "metadata": {
  "colab": {
   "private_outputs": true,
   "provenance": [],
   "collapsed_sections": []
  },
  "kernelspec": {
   "name": "python3",
   "display_name": "Python 3"
  },
  "language_info": {
   "name": "python"
  },
  "accelerator": "GPU"
 },
 "cells": [
  {
   "cell_type": "markdown",
   "metadata": {
    "id": "aqo9-hddTZrh"
   },
   "source": [
    "# Lifespan Age Synthesis with Geometry Guidance and Decorrelation Constraint Demo\n",
    "\n",
    "This colab lets you try our method on your own image!"
   ]
  },
  {
   "cell_type": "markdown",
   "metadata": {
    "id": "LY4lELE6TEbz"
   },
   "source": [
    "Download the github and prepare the environments"
   ]
  },
  {
   "cell_type": "code",
   "metadata": {
    "id": "IOSPzfVRTspe"
   },
   "source": [
    "!git clone https://github.com/zlq1z2l3q/GGDC\n",
    "%cd GGDC/\n",
    "!pip3 install -r requirements.txt"
   ],
   "execution_count": null,
   "outputs": []
  },
  {
   "cell_type": "markdown",
   "metadata": {
    "id": "dHIRttMXIjWm"
   },
   "source": [
    "Download auxiliary models"
   ]
  },
  {
   "cell_type": "code",
   "metadata": {
    "id": "m8PlUJ1-T_Q0"
   },
   "source": [
    "!python download_models.py"
   ],
   "execution_count": null,
   "outputs": []
  },
  {
   "cell_type": "markdown",
   "metadata": {
    "id": "54Zc2zVvJ_Zn"
   },
   "source": [
    "Download pretrained models.\n",
    "If you cannot download the checkpoints, then you should download them locally and then upload them to the ./checkpoints/males_model and ./checkpoints/females_model"
   ]
  },
  {
   "cell_type": "code",
   "metadata": {
    "id": "Xg-PcGUyqEPT"
   },
   "source": [
    "!pip install --upgrade --no-cache-dir gdown\n",
    "\n",
    "!mkdir checkpoints\n",
    "\n",
    "%cd checkpoints\n",
    "\n",
    "print('downloading males model')\n",
    "\n",
    "!gdown --id '-'\n",
    "\n",
    "!unzip males_model.zip\n",
    "\n",
    "print('downloading females model')\n",
    "\n",
    "!gdown --id '-'\n",
    "\n",
    "!unzip females_model.zip\n",
    "\n",
    "%cd .."
   ],
   "execution_count": null,
   "outputs": []
  },
  {
   "cell_type": "code",
   "metadata": {
    "id": "SqxbhoRrUU-m"
   },
   "source": [
    "import os\n",
    "from collections import OrderedDict\n",
    "from options.test_options import TestOptions\n",
    "from data.data_loader import CreateDataLoader\n",
    "from models.models import create_model\n",
    "import util.util as util\n",
    "from util.visualizer import Visualizer\n",
    "import torch\n",
    "\n",
    "opt = TestOptions().parse(save=False)\n",
    "opt.display_id = 0 # do not launch visdom\n",
    "opt.nThreads = 1   # test code only supports nThreads = 1\n",
    "opt.batchSize = 1  # test code only supports batchSize = 1\n",
    "opt.serial_batches = True  # no shuffle\n",
    "opt.no_flip = True  # no flip\n",
    "opt.in_the_wild = True # This triggers preprocessing of in the wild images in the dataloader\n",
    "opt.traverse = True # This tells the model to traverse the latent space between anchor classes\n",
    "opt.interp_step = 0.05 # this controls the number of images to interpolate between anchor classes"
   ],
   "execution_count": null,
   "outputs": []
  },
  {
   "cell_type": "code",
   "metadata": {
    "id": "RFToAxwDUYcL"
   },
   "source": [
    "data_loader = CreateDataLoader(opt)\n",
    "dataset = data_loader.load_data()\n",
    "visualizer = Visualizer(opt)"
   ],
   "execution_count": null,
   "outputs": []
  },
  {
   "cell_type": "code",
   "metadata": {
    "id": "-Eapax9tUliy"
   },
   "source": [
    "opt.name = 'males_model' # change to 'females_model' if you're trying the code on a female image\n",
    "model = create_model(opt)\n",
    "model.eval()"
   ],
   "execution_count": null,
   "outputs": []
  },
  {
   "cell_type": "code",
   "metadata": {
    "id": "TSUbmd697Api"
   },
   "source": [
    "# upload your image (the code supports only a single image at a time)\n",
    "from google.colab import files\n",
    "uploaded = files.upload()\n",
    "for filename in uploaded.keys():\n",
    "  img_path = filename\n",
    "  print('User uploaded file \"{name}\"'.format(name=filename))"
   ],
   "execution_count": null,
   "outputs": []
  },
  {
   "cell_type": "markdown",
   "metadata": {
    "id": "YIe-oLyBA1l-"
   },
   "source": [
    "generate output\n"
   ]
  },
  {
   "cell_type": "code",
   "metadata": {
    "id": "rXVUWUR6UqpX"
   },
   "source": [
    "data = dataset.dataset.get_item_from_path(img_path)\n",
    "visuals = model.inference(data)\n",
    "\n",
    "os.makedirs('results', exist_ok=True)\n",
    "out_path = os.path.join('results', os.path.splitext(img_path)[0].replace(' ', '_') + '.mp4')\n",
    "visualizer.make_video(visuals, out_path)"
   ],
   "execution_count": null,
   "outputs": []
  },
  {
   "cell_type": "markdown",
   "metadata": {
    "id": "KvGrm1FxLSzL"
   },
   "source": [
    "You can download the video in the results folder\n",
    "\n",
    "or\n",
    "\n",
    "Visualize the result"
   ]
  },
  {
   "cell_type": "code",
   "metadata": {
    "id": "L0XXKbfVUtzX"
   },
   "source": [
    "use_webm = False\n",
    "# For some unknown reason the mp4 video is not displayed on chrome\n",
    "# If you have chrome, uncomment the following lines to convert the \n",
    "# result to webm for display purposes\n",
    "\n",
    "# !pip3 install webm\n",
    "# webm_out_path = os.path.join('results', os.path.splitext(img_path)[0].replace(' ', '_') + '.webm')\n",
    "# !webm -i $out_path $webm_out_path\n",
    "# use_webm = True\n",
    "\n",
    "from IPython.display import HTML\n",
    "from base64 import b64encode\n",
    "video_path = webm_out_path if use_webm else out_path\n",
    "video_type = \"video/webm\" if use_webm else \"video/mp4\"\n",
    "mp4 = open(video_path,'rb').read()\n",
    "data_url = \"data:video/mp4;base64,\" + b64encode(mp4).decode()\n",
    "HTML(\"\"\"\n",
    "<video width={0} controls>\n",
    "      <source src=\"{1}\" type=\"{2}\">\n",
    "</video>\n",
    "\"\"\".format(opt.fineSize, data_url, video_type))\n"
   ],
   "execution_count": null,
   "outputs": []
  }
 ]
}
